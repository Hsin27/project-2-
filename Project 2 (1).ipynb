{
 "cells": [
  {
   "cell_type": "code",
   "execution_count": 113,
   "id": "4500c179",
   "metadata": {},
   "outputs": [
    {
     "data": {
      "text/html": [
       "<div>\n",
       "<style scoped>\n",
       "    .dataframe tbody tr th:only-of-type {\n",
       "        vertical-align: middle;\n",
       "    }\n",
       "\n",
       "    .dataframe tbody tr th {\n",
       "        vertical-align: top;\n",
       "    }\n",
       "\n",
       "    .dataframe thead th {\n",
       "        text-align: right;\n",
       "    }\n",
       "</style>\n",
       "<table border=\"1\" class=\"dataframe\">\n",
       "  <thead>\n",
       "    <tr style=\"text-align: right;\">\n",
       "      <th></th>\n",
       "      <th>Year</th>\n",
       "      <th>Gross domestic product</th>\n",
       "      <th>Personal consumption expenditures</th>\n",
       "      <th>Goods</th>\n",
       "      <th>Durable goods</th>\n",
       "      <th>Nondurable goods</th>\n",
       "      <th>Services</th>\n",
       "      <th>Gross private domestic investment</th>\n",
       "      <th>Fixed investment</th>\n",
       "      <th>Nonresidential</th>\n",
       "      <th>...</th>\n",
       "      <th>Services.2</th>\n",
       "      <th>Government consumption expenditures and gross investment</th>\n",
       "      <th>Federal</th>\n",
       "      <th>National defense</th>\n",
       "      <th>Nondefense</th>\n",
       "      <th>State and local</th>\n",
       "      <th>Federal.1</th>\n",
       "      <th>National defense.1</th>\n",
       "      <th>Nondefense.1</th>\n",
       "      <th>State and local.1</th>\n",
       "    </tr>\n",
       "  </thead>\n",
       "  <tbody>\n",
       "    <tr>\n",
       "      <th>0</th>\n",
       "      <td>2015</td>\n",
       "      <td>18206.0</td>\n",
       "      <td>12263.5</td>\n",
       "      <td>3923.0</td>\n",
       "      <td>1307.6</td>\n",
       "      <td>2615.4</td>\n",
       "      <td>8340.5</td>\n",
       "      <td>3237.2</td>\n",
       "      <td>3100.4</td>\n",
       "      <td>2466.6</td>\n",
       "      <td>...</td>\n",
       "      <td>505.3</td>\n",
       "      <td>3231.6</td>\n",
       "      <td>1221.8</td>\n",
       "      <td>729.7</td>\n",
       "      <td>492.0</td>\n",
       "      <td>2009.8</td>\n",
       "      <td>1221.8</td>\n",
       "      <td>729.7</td>\n",
       "      <td>492.0</td>\n",
       "      <td>2009.8</td>\n",
       "    </tr>\n",
       "    <tr>\n",
       "      <th>1</th>\n",
       "      <td>2016</td>\n",
       "      <td>18695.1</td>\n",
       "      <td>12693.3</td>\n",
       "      <td>3991.8</td>\n",
       "      <td>1345.2</td>\n",
       "      <td>2646.7</td>\n",
       "      <td>8701.4</td>\n",
       "      <td>3205.0</td>\n",
       "      <td>3168.8</td>\n",
       "      <td>2469.3</td>\n",
       "      <td>...</td>\n",
       "      <td>519.7</td>\n",
       "      <td>3303.1</td>\n",
       "      <td>1234.5</td>\n",
       "      <td>727.9</td>\n",
       "      <td>506.6</td>\n",
       "      <td>2068.5</td>\n",
       "      <td>1234.5</td>\n",
       "      <td>727.9</td>\n",
       "      <td>506.6</td>\n",
       "      <td>2068.5</td>\n",
       "    </tr>\n",
       "    <tr>\n",
       "      <th>2</th>\n",
       "      <td>2017</td>\n",
       "      <td>19479.6</td>\n",
       "      <td>13239.1</td>\n",
       "      <td>4158.6</td>\n",
       "      <td>1396.6</td>\n",
       "      <td>2761.9</td>\n",
       "      <td>9080.6</td>\n",
       "      <td>3381.4</td>\n",
       "      <td>3351.9</td>\n",
       "      <td>2591.6</td>\n",
       "      <td>...</td>\n",
       "      <td>553.8</td>\n",
       "      <td>3399.1</td>\n",
       "      <td>1262.8</td>\n",
       "      <td>746.5</td>\n",
       "      <td>516.3</td>\n",
       "      <td>2136.3</td>\n",
       "      <td>1262.8</td>\n",
       "      <td>746.5</td>\n",
       "      <td>516.3</td>\n",
       "      <td>2136.3</td>\n",
       "    </tr>\n",
       "    <tr>\n",
       "      <th>3</th>\n",
       "      <td>2018</td>\n",
       "      <td>20527.2</td>\n",
       "      <td>13913.5</td>\n",
       "      <td>4353.7</td>\n",
       "      <td>1469.2</td>\n",
       "      <td>2884.5</td>\n",
       "      <td>9559.8</td>\n",
       "      <td>3637.8</td>\n",
       "      <td>3579.1</td>\n",
       "      <td>2780.6</td>\n",
       "      <td>...</td>\n",
       "      <td>570.6</td>\n",
       "      <td>3572.0</td>\n",
       "      <td>1339.0</td>\n",
       "      <td>792.8</td>\n",
       "      <td>546.2</td>\n",
       "      <td>2233.0</td>\n",
       "      <td>1339.0</td>\n",
       "      <td>792.8</td>\n",
       "      <td>546.2</td>\n",
       "      <td>2233.0</td>\n",
       "    </tr>\n",
       "    <tr>\n",
       "      <th>4</th>\n",
       "      <td>2019</td>\n",
       "      <td>21372.6</td>\n",
       "      <td>14428.7</td>\n",
       "      <td>4478.9</td>\n",
       "      <td>1513.3</td>\n",
       "      <td>2965.6</td>\n",
       "      <td>9949.8</td>\n",
       "      <td>3826.3</td>\n",
       "      <td>3752.6</td>\n",
       "      <td>2938.7</td>\n",
       "      <td>...</td>\n",
       "      <td>598.1</td>\n",
       "      <td>3713.9</td>\n",
       "      <td>1414.9</td>\n",
       "      <td>847.5</td>\n",
       "      <td>567.4</td>\n",
       "      <td>2299.0</td>\n",
       "      <td>1414.9</td>\n",
       "      <td>847.5</td>\n",
       "      <td>567.4</td>\n",
       "      <td>2299.0</td>\n",
       "    </tr>\n",
       "    <tr>\n",
       "      <th>5</th>\n",
       "      <td>2020</td>\n",
       "      <td>20893.7</td>\n",
       "      <td>14047.6</td>\n",
       "      <td>4653.8</td>\n",
       "      <td>1616.4</td>\n",
       "      <td>3037.4</td>\n",
       "      <td>9393.7</td>\n",
       "      <td>3637.8</td>\n",
       "      <td>3697.4</td>\n",
       "      <td>2799.6</td>\n",
       "      <td>...</td>\n",
       "      <td>465.4</td>\n",
       "      <td>3859.5</td>\n",
       "      <td>1501.8</td>\n",
       "      <td>881.3</td>\n",
       "      <td>620.5</td>\n",
       "      <td>2357.8</td>\n",
       "      <td>1501.8</td>\n",
       "      <td>881.3</td>\n",
       "      <td>620.5</td>\n",
       "      <td>2357.8</td>\n",
       "    </tr>\n",
       "    <tr>\n",
       "      <th>6</th>\n",
       "      <td>2021</td>\n",
       "      <td>22997.5</td>\n",
       "      <td>15746.9</td>\n",
       "      <td>5482.8</td>\n",
       "      <td>2026.6</td>\n",
       "      <td>3456.2</td>\n",
       "      <td>10264.1</td>\n",
       "      <td>4113.4</td>\n",
       "      <td>4139.4</td>\n",
       "      <td>3053.9</td>\n",
       "      <td>...</td>\n",
       "      <td>546.2</td>\n",
       "      <td>4053.0</td>\n",
       "      <td>1565.0</td>\n",
       "      <td>905.3</td>\n",
       "      <td>659.7</td>\n",
       "      <td>2488.0</td>\n",
       "      <td>1565.0</td>\n",
       "      <td>905.3</td>\n",
       "      <td>659.7</td>\n",
       "      <td>2488.0</td>\n",
       "    </tr>\n",
       "  </tbody>\n",
       "</table>\n",
       "<p>7 rows × 31 columns</p>\n",
       "</div>"
      ],
      "text/plain": [
       "   Year  Gross domestic product  Personal consumption expenditures   Goods  \\\n",
       "0  2015                 18206.0                            12263.5  3923.0   \n",
       "1  2016                 18695.1                            12693.3  3991.8   \n",
       "2  2017                 19479.6                            13239.1  4158.6   \n",
       "3  2018                 20527.2                            13913.5  4353.7   \n",
       "4  2019                 21372.6                            14428.7  4478.9   \n",
       "5  2020                 20893.7                            14047.6  4653.8   \n",
       "6  2021                 22997.5                            15746.9  5482.8   \n",
       "\n",
       "   Durable goods  Nondurable goods  Services  \\\n",
       "0         1307.6            2615.4    8340.5   \n",
       "1         1345.2            2646.7    8701.4   \n",
       "2         1396.6            2761.9    9080.6   \n",
       "3         1469.2            2884.5    9559.8   \n",
       "4         1513.3            2965.6    9949.8   \n",
       "5         1616.4            3037.4    9393.7   \n",
       "6         2026.6            3456.2   10264.1   \n",
       "\n",
       "   Gross private domestic investment  Fixed investment  Nonresidential  ...  \\\n",
       "0                             3237.2            3100.4          2466.6  ...   \n",
       "1                             3205.0            3168.8          2469.3  ...   \n",
       "2                             3381.4            3351.9          2591.6  ...   \n",
       "3                             3637.8            3579.1          2780.6  ...   \n",
       "4                             3826.3            3752.6          2938.7  ...   \n",
       "5                             3637.8            3697.4          2799.6  ...   \n",
       "6                             4113.4            4139.4          3053.9  ...   \n",
       "\n",
       "   Services.2  Government consumption expenditures and gross investment  \\\n",
       "0       505.3                                             3231.6          \n",
       "1       519.7                                             3303.1          \n",
       "2       553.8                                             3399.1          \n",
       "3       570.6                                             3572.0          \n",
       "4       598.1                                             3713.9          \n",
       "5       465.4                                             3859.5          \n",
       "6       546.2                                             4053.0          \n",
       "\n",
       "   Federal  National defense  Nondefense  State and local  Federal.1  \\\n",
       "0   1221.8             729.7       492.0           2009.8     1221.8   \n",
       "1   1234.5             727.9       506.6           2068.5     1234.5   \n",
       "2   1262.8             746.5       516.3           2136.3     1262.8   \n",
       "3   1339.0             792.8       546.2           2233.0     1339.0   \n",
       "4   1414.9             847.5       567.4           2299.0     1414.9   \n",
       "5   1501.8             881.3       620.5           2357.8     1501.8   \n",
       "6   1565.0             905.3       659.7           2488.0     1565.0   \n",
       "\n",
       "   National defense.1  Nondefense.1  State and local.1  \n",
       "0               729.7         492.0             2009.8  \n",
       "1               727.9         506.6             2068.5  \n",
       "2               746.5         516.3             2136.3  \n",
       "3               792.8         546.2             2233.0  \n",
       "4               847.5         567.4             2299.0  \n",
       "5               881.3         620.5             2357.8  \n",
       "6               905.3         659.7             2488.0  \n",
       "\n",
       "[7 rows x 31 columns]"
      ]
     },
     "execution_count": 113,
     "metadata": {},
     "output_type": "execute_result"
    }
   ],
   "source": [
    "import pandas as pd\n",
    "features = pd.read_csv('downloads/Project 2 corrected data - Project 2 GDP data 3.csv')\n",
    "features.head(7)"
   ]
  },
  {
   "cell_type": "code",
   "execution_count": 108,
   "id": "4de03d32",
   "metadata": {},
   "outputs": [
    {
     "data": {
      "text/plain": [
       "Text(0, 0.5, 'Personal consumption expenditures')"
      ]
     },
     "execution_count": 108,
     "metadata": {},
     "output_type": "execute_result"
    },
    {
     "data": {
      "image/png": "[encoded data removed]",
      "text/plain": [
       "<Figure size 432x288 with 1 Axes>"
      ]
     },
     "metadata": {
      "needs_background": "light"
     },
     "output_type": "display_data"
    }
   ],
   "source": [
    "x = list(df['Year'])\n",
    "y = list(df['Personal consumption expenditures'])\n",
    "import matplotlib.pyplot as plt\n",
    "plt.plot(x,y)\n",
    "plt.xlabel(\"year\")\n",
    "plt.ylabel(\"Personal consumption expenditures\")"
   ]
  },
  {
   "cell_type": "code",
   "execution_count": null,
   "id": "133b8ef0",
   "metadata": {},
   "outputs": [],
   "source": []
  },
  {
   "cell_type": "code",
   "execution_count": 107,
   "id": "75218307",
   "metadata": {},
   "outputs": [
    {
     "data": {
      "text/plain": [
       "Text(0, 0.5, 'Gross private domestic investment')"
      ]
     },
     "execution_count": 107,
     "metadata": {},
     "output_type": "execute_result"
    },
    {
     "data": {
      "image/png": "[encoded data removed]",
      "text/plain": [
       "<Figure size 432x288 with 1 Axes>"
      ]
     },
     "metadata": {
      "needs_background": "light"
     },
     "output_type": "display_data"
    }
   ],
   "source": [
    "x = list(df['Year'])\n",
    "y = list(df['Gross private domestic investment'])\n",
    "import matplotlib.pyplot as plt\n",
    "plt.plot(x,y)\n",
    "plt.xlabel(\"year\")\n",
    "plt.ylabel(\"Gross private domestic investment\")"
   ]
  },
  {
   "cell_type": "code",
   "execution_count": 106,
   "id": "2ad2369c",
   "metadata": {
    "scrolled": true
   },
   "outputs": [
    {
     "data": {
      "text/plain": [
       "Text(0, 0.5, 'Government consumption expenditures/gross investment')"
      ]
     },
     "execution_count": 106,
     "metadata": {},
     "output_type": "execute_result"
    },
    {
     "data": {
      "image/png": "[encoded data removed]",
      "text/plain": [
       "<Figure size 432x288 with 1 Axes>"
      ]
     },
     "metadata": {
      "needs_background": "light"
     },
     "output_type": "display_data"
    }
   ],
   "source": [
    "x = list(df['Year'])\n",
    "y = list(df['Government consumption expenditures and gross investment'])\n",
    "import matplotlib.pyplot as plt\n",
    "plt.plot(x,y)\n",
    "plt.xlabel(\"year\")\n",
    "plt.ylabel(\"Government consumption expenditures/gross investment\")"
   ]
  },
  {
   "cell_type": "code",
   "execution_count": 103,
   "id": "f88694a5",
   "metadata": {},
   "outputs": [
    {
     "data": {
      "text/plain": [
       "Text(0, 0.5, 'Gross domestic product')"
      ]
     },
     "execution_count": 103,
     "metadata": {},
     "output_type": "execute_result"
    },
    {
     "data": {
      "image/png": "[encoded data removed]",
      "text/plain": [
       "<Figure size 432x288 with 1 Axes>"
      ]
     },
     "metadata": {
      "needs_background": "light"
     },
     "output_type": "display_data"
    }
   ],
   "source": [
    "x = list(df['Year'])\n",
    "y = list(df['Gross domestic product'])\n",
    "import matplotlib.pyplot as plt\n",
    "plt.plot(x,y)\n",
    "plt.xlabel(\"year\")\n",
    "plt.ylabel(\"Gross domestic product\")"
   ]
  },
  {
   "cell_type": "code",
   "execution_count": null,
   "id": "f13f4e62",
   "metadata": {},
   "outputs": [],
   "source": []
  }
 ],
 "metadata": {
  "kernelspec": {
   "display_name": "Python 3 (ipykernel)",
   "language": "python",
   "name": "python3"
  },
  "language_info": {
   "codemirror_mode": {
    "name": "ipython",
    "version": 3
   },
   "file_extension": ".py",
   "mimetype": "text/x-python",
   "name": "python",
   "nbconvert_exporter": "python",
   "pygments_lexer": "ipython3",
   "version": "3.9.7"
  }
 },
 "nbformat": 4,
 "nbformat_minor": 5
}
